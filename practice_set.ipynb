{
 "cells": [
  {
   "cell_type": "code",
   "execution_count": 2,
   "metadata": {},
   "outputs": [
    {
     "name": "stdout",
     "output_type": "stream",
     "text": [
      "It is odd number\n"
     ]
    }
   ],
   "source": [
    "#question-1)\n",
    "number =int(input(\"enter your number:\"))\n",
    "if number%2==0:\n",
    "  print(\"It is even number\")\n",
    "else:\n",
    "  print(\"It is odd number\")\n"
   ]
  },
  {
   "cell_type": "code",
   "execution_count": 8,
   "metadata": {},
   "outputs": [
    {
     "name": "stdout",
     "output_type": "stream",
     "text": [
      "They are child\n"
     ]
    }
   ],
   "source": [
    "#question-2)\n",
    "user_age=int(input(\"enter your age:\"))\n",
    "if user_age>=65:\n",
    "  print(\"They are senior\")\n",
    "elif user_age>=20 and user_age<=64:\n",
    "   print(\"They are adult\")\n",
    "elif user_age>=13 and user_age<=19:\n",
    "  print(\"They are teenager\")\n",
    "elif user_age>=0 and user_age<=12:\n",
    "  print(\"They are child\")"
   ]
  },
  {
   "cell_type": "code",
   "execution_count": 21,
   "metadata": {},
   "outputs": [
    {
     "name": "stdout",
     "output_type": "stream",
     "text": [
      "The number is zero\n"
     ]
    }
   ],
   "source": [
    "# question-3)\n",
    "user=int(input(\"enter your number:\"))\n",
    "if user>0:\n",
    "  if user%2==0:\n",
    "    print(\"It is positive even number\")\n",
    "  else:\n",
    "    print(\"It is positive odd number\")\n",
    "if user<0:\n",
    "  if user%2==0:\n",
    "    print(\"It is negative even number \")\n",
    "  else:\n",
    "    print(\"It is negative odd number\")\n",
    "elif user==0:\n",
    "  print(\"The number is zero\")"
   ]
  },
  {
   "cell_type": "code",
   "execution_count": 4,
   "metadata": {},
   "outputs": [
    {
     "name": "stdout",
     "output_type": "stream",
     "text": [
      "grade is C\n"
     ]
    }
   ],
   "source": [
    "#question-4)\n",
    "student_score=int(input(\"enter your score\"))\n",
    "if student_score>=90 and student_score<=100:\n",
    "  print(\"grade is A\")\n",
    "elif student_score>=80 and student_score<=89:\n",
    "  print(\"grade is B\")\n",
    "elif student_score>=70 and student_score<=79:\n",
    "  print(\"grade is C\")\n",
    "elif student_score>=60 and student_score<=69:\n",
    "  print(\"grade is D\")\n",
    "elif student_score<60:\n",
    "  print(\"grade is F\")"
   ]
  },
  {
   "cell_type": "code",
   "execution_count": 46,
   "metadata": {},
   "outputs": [
    {
     "name": "stdout",
     "output_type": "stream",
     "text": [
      "2024 is leap year\n"
     ]
    }
   ],
   "source": [
    "# question-5)\n",
    "year=int(input(\"enter your year:\"))\n",
    "if year%4==0 and year%100!=0 or year%400==0:\n",
    "  print(f\"{year} is leap year\")\n",
    "else:\n",
    "  print(f\"{year} is not leap year\")"
   ]
  },
  {
   "cell_type": "code",
   "execution_count": 47,
   "metadata": {},
   "outputs": [
    {
     "name": "stdout",
     "output_type": "stream",
     "text": [
      "You are eligible to vote\n"
     ]
    }
   ],
   "source": [
    "# question-6)\n",
    "age=int(input(\"enter your age:\"))\n",
    "if age>=18:\n",
    "  print(\"You are eligible to vote\")\n",
    "else:\n",
    "  print(\"you are not eligible to vote\")"
   ]
  },
  {
   "cell_type": "code",
   "execution_count": 61,
   "metadata": {},
   "outputs": [
    {
     "name": "stdout",
     "output_type": "stream",
     "text": [
      "4 is largest number\n"
     ]
    }
   ],
   "source": [
    "# question-7)\n",
    "num_1=int(input(\"enter 1st number:\"))\n",
    "num_2=int(input(\"enter 2nd number:\"))\n",
    "num_3=int(input(\"enter 3rd number:\"))\n",
    "if num_1>num_2 and num_1>num_3:\n",
    "  print(f\"{num_1} is largest number \")\n",
    "elif num_2>num_1 and num_2>num_3:\n",
    "  print(f\"{num_2} is largest number\")\n",
    "elif num_3>num_1 and num_3>num_2:\n",
    "  print(f\"{num_3} is largest number\")"
   ]
  },
  {
   "cell_type": "code",
   "execution_count": 1,
   "metadata": {},
   "outputs": [
    {
     "name": "stdout",
     "output_type": "stream",
     "text": [
      "no\n"
     ]
    }
   ],
   "source": [
    "#question-8)\n",
    "string=(input(\"enter your character\"))\n",
    "if string==string.upper():\n",
    "   print(\"yes\")\n",
    "else:\n",
    "  print(\"no\")\n",
    "\n",
    "\n"
   ]
  },
  {
   "cell_type": "code",
   "execution_count": null,
   "metadata": {},
   "outputs": [],
   "source": []
  }
 ],
 "metadata": {
  "kernelspec": {
   "display_name": "Python 3",
   "language": "python",
   "name": "python3"
  },
  "language_info": {
   "codemirror_mode": {
    "name": "ipython",
    "version": 3
   },
   "file_extension": ".py",
   "mimetype": "text/x-python",
   "name": "python",
   "nbconvert_exporter": "python",
   "pygments_lexer": "ipython3",
   "version": "3.13.0"
  }
 },
 "nbformat": 4,
 "nbformat_minor": 2
}

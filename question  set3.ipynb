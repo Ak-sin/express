{
 "cells": [
  {
   "cell_type": "code",
   "execution_count": null,
   "metadata": {},
   "outputs": [],
   "source": [
    "list=[1,2,3,4,5,6,7,8,9,10]\n",
    "print(list)\n",
    "print(list[0])\n",
    "print(list[9])\n",
    "\n"
   ]
  },
  {
   "cell_type": "code",
   "execution_count": null,
   "metadata": {},
   "outputs": [],
   "source": [
    "ab=[(i,j) for i in range(3) for j in range(4)]\n",
    "print(ab)"
   ]
  },
  {
   "cell_type": "code",
   "execution_count": null,
   "metadata": {},
   "outputs": [],
   "source": [
    "ab = []\n",
    "ab.append(input(\"enter 1 movie\"))\n",
    "ab.append(input(\"enter 2movie\"))\n",
    "ab.append(input(\"enter 3 movie\"))\n",
    "print(ab)\n"
   ]
  },
  {
   "cell_type": "code",
   "execution_count": null,
   "metadata": {},
   "outputs": [],
   "source": [
    "list=[\"hello coders\"]\n",
    "print(list)"
   ]
  },
  {
   "cell_type": "code",
   "execution_count": null,
   "metadata": {},
   "outputs": [],
   "source": [
    "# question\n",
    "ab=[i**2 for i in range(5,15) if i%2==0 and i%4==0]\n",
    "print(ab)\n",
    "  "
   ]
  },
  {
   "cell_type": "code",
   "execution_count": null,
   "metadata": {},
   "outputs": [],
   "source": [
    "matrix=[\n",
    "     [1,2,3],\n",
    "     [4,5,6],\n",
    "     [7,8,9]\n",
    "]\n",
    "a=[ j for i in matrix for j in i]\n",
    "print(a)"
   ]
  },
  {
   "cell_type": "markdown",
   "metadata": {},
   "source": [
    "# function"
   ]
  },
  {
   "cell_type": "code",
   "execution_count": null,
   "metadata": {},
   "outputs": [],
   "source": [
    "def ab(a,b):\n",
    "  return a+b\n",
    "ab(5,5)\n"
   ]
  },
  {
   "cell_type": "code",
   "execution_count": null,
   "metadata": {},
   "outputs": [],
   "source": [
    "def ab(a):\n",
    "  return a**2\n",
    "a=[ab(i) for i in range(1,10)]\n",
    "print(a)"
   ]
  },
  {
   "cell_type": "markdown",
   "metadata": {},
   "source": [
    "# transpos a 2d list (matrix)"
   ]
  },
  {
   "cell_type": "code",
   "execution_count": null,
   "metadata": {},
   "outputs": [],
   "source": [
    "matrix=[[1,2,3],\n",
    "     [4,5,6],\n",
    "     [7,8,9]\n",
    "     ]\n",
    "ab=[ [row[i]for row in matrix] for i in range(len(matrix[0]))]\n",
    "print(ab)"
   ]
  },
  {
   "cell_type": "code",
   "execution_count": null,
   "metadata": {},
   "outputs": [],
   "source": [
    "ab=\"my name is arun an d my location is delhi\"\n",
    "z=\"mytikl\"\n",
    "txt=''.join([ i for i in ab if i.lower()not in z])\n",
    "print(txt)"
   ]
  },
  {
   "cell_type": "code",
   "execution_count": null,
   "metadata": {},
   "outputs": [],
   "source": [
    "# dictionary to list\n",
    "ab={'name' : 'arun','location' : 'delhi','marks' : '55'}\n",
    "b=[(z,x )for z,x in ab.items()]\n",
    "print(b)"
   ]
  },
  {
   "cell_type": "code",
   "execution_count": null,
   "metadata": {},
   "outputs": [],
   "source": [
    "# set\n",
    "set1=1,2,3\n",
    "set2=3,4,5\n",
    "union=1,2,3,4,5\n",
    "\n",
    "inter=3\n",
    "\n",
    "diff=set1-set2=1,2\n",
    "set2-set1=4,5\n",
    "\n",
    "sys_diff=1,2,4,5 #not common\n"
   ]
  },
  {
   "cell_type": "code",
   "execution_count": null,
   "metadata": {},
   "outputs": [
    {
     "name": "stdout",
     "output_type": "stream",
     "text": [
      "{1, 2, 3, 4, 5}\n",
      "[0, 1, 4, 9, 16, 25, 36, 49, 64, 81]\n"
     ]
    }
   ],
   "source": [
    "# covert to any form \n",
    "number=[1,2,3,4,5]\n",
    "n=set(number)\n",
    "print(n)\n",
    "\n",
    "# square \n",
    "a=[i**2 for i in range(10)]\n",
    "print(a)"
   ]
  },
  {
   "cell_type": "code",
   "execution_count": 15,
   "metadata": {},
   "outputs": [
    {
     "name": "stdout",
     "output_type": "stream",
     "text": [
      "4\n"
     ]
    }
   ],
   "source": [
    "# tuple\n",
    "n=(1,(2,3),[4,5])\n",
    "print(n[2][0])"
   ]
  },
  {
   "cell_type": "code",
   "execution_count": null,
   "metadata": {},
   "outputs": [],
   "source": [
    "matrix=[[]]"
   ]
  }
 ],
 "metadata": {
  "kernelspec": {
   "display_name": "Python 3",
   "language": "python",
   "name": "python3"
  },
  "language_info": {
   "codemirror_mode": {
    "name": "ipython",
    "version": 3
   },
   "file_extension": ".py",
   "mimetype": "text/x-python",
   "name": "python",
   "nbconvert_exporter": "python",
   "pygments_lexer": "ipython3",
   "version": "3.13.0"
  }
 },
 "nbformat": 4,
 "nbformat_minor": 2
}

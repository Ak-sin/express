{
 "cells": [
  {
   "cell_type": "code",
   "execution_count": 7,
   "metadata": {},
   "outputs": [
    {
     "name": "stdout",
     "output_type": "stream",
     "text": [
      "20\n",
      "25\n"
     ]
    }
   ],
   "source": [
    "a=20\n",
    "print(a)\n",
    "a=25\n",
    "print(a)"
   ]
  },
  {
   "cell_type": "code",
   "execution_count": 11,
   "metadata": {},
   "outputs": [
    {
     "name": "stdout",
     "output_type": "stream",
     "text": [
      "<class 'int'>\n"
     ]
    }
   ],
   "source": [
    "book=45\n",
    "print(type(book))"
   ]
  },
  {
   "cell_type": "code",
   "execution_count": 1,
   "metadata": {},
   "outputs": [
    {
     "name": "stdout",
     "output_type": "stream",
     "text": [
      "1 1 1\n"
     ]
    }
   ],
   "source": [
    "a=b=c=1\n",
    "print(a,b,c)"
   ]
  },
  {
   "cell_type": "code",
   "execution_count": 3,
   "metadata": {},
   "outputs": [
    {
     "name": "stdout",
     "output_type": "stream",
     "text": [
      "hello \n",
      "world\n"
     ]
    }
   ],
   "source": [
    "name=\"hello \\nworld\"\n",
    "print(name)"
   ]
  },
  {
   "cell_type": "code",
   "execution_count": 3,
   "metadata": {},
   "outputs": [
    {
     "name": "stdout",
     "output_type": "stream",
     "text": [
      "False\n",
      "True\n",
      "True\n"
     ]
    }
   ],
   "source": [
    "apple =True\n",
    "book =False\n",
    "print(apple and book)\n",
    "print(apple or book )\n",
    "print(not book)"
   ]
  },
  {
   "cell_type": "code",
   "execution_count": 7,
   "metadata": {},
   "outputs": [
    {
     "data": {
      "text/plain": [
       "11"
      ]
     },
     "execution_count": 7,
     "metadata": {},
     "output_type": "execute_result"
    }
   ],
   "source": [
    "\n",
    "def abc(a,b,c):\n",
    "      return a+b+c\n",
    "\n",
    "abc(4,5,2)"
   ]
  },
  {
   "cell_type": "code",
   "execution_count": 2,
   "metadata": {},
   "outputs": [
    {
     "name": "stdout",
     "output_type": "stream",
     "text": [
      "MY NAME IS ARUN\n",
      "my name is arun\n",
      "name\n",
      "my name is aru\n"
     ]
    }
   ],
   "source": [
    "ab=\"my name is arun\"\n",
    "print(ab.upper())\n",
    "print(ab.lower())\n",
    "print(ab[3:7])\n",
    "print(ab.replace(\"arun\",\"aru\"))"
   ]
  },
  {
   "cell_type": "code",
   "execution_count": 13,
   "metadata": {},
   "outputs": [
    {
     "name": "stdout",
     "output_type": "stream",
     "text": [
      " your name is arun and your class is 54\n"
     ]
    }
   ],
   "source": [
    "#formate string\n",
    "name=\"arun\"\n",
    "Class=54\n",
    "print(f\" your name is {name} and your class is {Class}\")"
   ]
  },
  {
   "cell_type": "code",
   "execution_count": 2,
   "metadata": {},
   "outputs": [
    {
     "name": "stdout",
     "output_type": "stream",
     "text": [
      "you are not eli\n"
     ]
    }
   ],
   "source": [
    "#conditional statement\n",
    "age =15\n",
    "if age>=18:\n",
    "  print(\"you are eli.\")\n",
    "else:\n",
    "  print(\"you are not eli\")"
   ]
  },
  {
   "cell_type": "code",
   "execution_count": 3,
   "metadata": {},
   "outputs": [
    {
     "name": "stdout",
     "output_type": "stream",
     "text": [
      "you can not vote\n"
     ]
    }
   ],
   "source": [
    "age = int(input(\" enter your age :\"))\n",
    "if age>=18 :\n",
    "     print(\"you can vote\")\n",
    "else :\n",
    "    print(\"you can not vote\")"
   ]
  },
  {
   "cell_type": "code",
   "execution_count": 4,
   "metadata": {},
   "outputs": [
    {
     "name": "stdout",
     "output_type": "stream",
     "text": [
      "your are eli for travel\n"
     ]
    }
   ],
   "source": [
    "age = int(input(\"enter your age:\"))\n",
    "if age>=25 :\n",
    "  print(\"your are eli for travel\")\n",
    "else :\n",
    "  print(\"you are not eli for travel\")"
   ]
  },
  {
   "cell_type": "code",
   "execution_count": 10,
   "metadata": {},
   "outputs": [
    {
     "name": "stdout",
     "output_type": "stream",
     "text": [
      "bacha\n"
     ]
    }
   ],
   "source": [
    "#if-elif-else\n",
    "age = int(input(\"enter your age :\"))\n",
    "if age>30 :\n",
    "  print(\"adult\")\n",
    "elif age>25:\n",
    "     print(\"mid\")\n",
    "elif age>18 :\n",
    "  print(\"not adult\")\n",
    "elif age>10 :\n",
    "  print(\"bacha\")\n",
    "else :\n",
    "  print(\"toddler\")"
   ]
  },
  {
   "cell_type": "code",
   "execution_count": 21,
   "metadata": {},
   "outputs": [
    {
     "name": "stdout",
     "output_type": "stream",
     "text": [
      "you are bachha\n"
     ]
    }
   ],
   "source": [
    "age =int(input(\"enter your age \"))\n",
    "if age>=60:\n",
    "  print(\"you are senior citizen\")\n",
    "elif age>=30:\n",
    "  print(\"you are senior\")\n",
    "elif age>=18:\n",
    "  print(\"you teenager \")\n",
    "elif age>=10:\n",
    "  print(\"you are child\")\n",
    "else:\n",
    "  print(\"you are bachha\")"
   ]
  },
  {
   "cell_type": "code",
   "execution_count": null,
   "metadata": {},
   "outputs": [],
   "source": [
    "student_marks =int(input())"
   ]
  },
  {
   "cell_type": "code",
   "execution_count": null,
   "metadata": {},
   "outputs": [],
   "source": []
  }
 ],
 "metadata": {
  "kernelspec": {
   "display_name": "Python 3",
   "language": "python",
   "name": "python3"
  },
  "language_info": {
   "codemirror_mode": {
    "name": "ipython",
    "version": 3
   },
   "file_extension": ".py",
   "mimetype": "text/x-python",
   "name": "python",
   "nbconvert_exporter": "python",
   "pygments_lexer": "ipython3",
   "version": "3.13.0"
  }
 },
 "nbformat": 4,
 "nbformat_minor": 2
}

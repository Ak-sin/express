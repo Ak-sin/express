{
 "cells": [
  {
   "cell_type": "code",
   "execution_count": 2,
   "metadata": {},
   "outputs": [
    {
     "name": "stdout",
     "output_type": "stream",
     "text": [
      "you are not eligible\n"
     ]
    }
   ],
   "source": [
    "a=int(input(\"enter your number:\" ))\n",
    "if a>18 and a<50:\n",
    "   if  not a>=35:\n",
    "    print(\"you are eligible\")\n",
    "   else:\n",
    "     print(\"you are not eligible\")\n",
    "else:\n",
    "  print(\"you are less than 18 or 50\")"
   ]
  },
  {
   "cell_type": "code",
   "execution_count": 5,
   "metadata": {},
   "outputs": [
    {
     "name": "stdout",
     "output_type": "stream",
     "text": [
      "not divisible\n"
     ]
    }
   ],
   "source": [
    "user=int(input(\"enter your number:\"))\n",
    "if user%2==0 and user%6==0:\n",
    "  print(\"divisible\")\n",
    "else:\n",
    "  print(\"not divisible\")"
   ]
  },
  {
   "cell_type": "code",
   "execution_count": 6,
   "metadata": {},
   "outputs": [
    {
     "name": "stdout",
     "output_type": "stream",
     "text": [
      "ok\n"
     ]
    }
   ],
   "source": [
    "a =int(input(\"enter your number:\"))\n",
    "if not (a>18 and a<60) or (a>=20 and a<65):\n",
    "  print(\"ok\")\n",
    "else:\n",
    " print(\"not\")"
   ]
  },
  {
   "cell_type": "code",
   "execution_count": 14,
   "metadata": {},
   "outputs": [
    {
     "name": "stdout",
     "output_type": "stream",
     "text": [
      "not  grater\n"
     ]
    }
   ],
   "source": [
    "user=int((input(\"enter your number:\")))\n",
    "if user>22:\n",
    "  if   user>30:\n",
    "    print(\"grater\")\n",
    "  else:\n",
    "    if  user<30:\n",
    "      print(\"not  grater\")\n",
    "    "
   ]
  }
 ],
 "metadata": {
  "kernelspec": {
   "display_name": "Python 3",
   "language": "python",
   "name": "python3"
  },
  "language_info": {
   "codemirror_mode": {
    "name": "ipython",
    "version": 3
   },
   "file_extension": ".py",
   "mimetype": "text/x-python",
   "name": "python",
   "nbconvert_exporter": "python",
   "pygments_lexer": "ipython3",
   "version": "3.13.0"
  }
 },
 "nbformat": 4,
 "nbformat_minor": 2
}

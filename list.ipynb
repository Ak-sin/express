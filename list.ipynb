{
 "cells": [
  {
   "cell_type": "markdown",
   "metadata": {},
   "source": [
    "# list\n"
   ]
  },
  {
   "cell_type": "code",
   "execution_count": 21,
   "metadata": {},
   "outputs": [
    {
     "name": "stdout",
     "output_type": "stream",
     "text": [
      "[1, 2, 3, 4, 5]\n"
     ]
    }
   ],
   "source": [
    "list=[1,2,3,4,5]\n",
    "print(list)"
   ]
  },
  {
   "cell_type": "code",
   "execution_count": 22,
   "metadata": {},
   "outputs": [
    {
     "name": "stdout",
     "output_type": "stream",
     "text": [
      "[1, 2, 3, 4, 5, 20]\n"
     ]
    }
   ],
   "source": [
    "# append\n",
    "number=[1,2,3,4,5]\n",
    "number.append(20)\n",
    "print(number)"
   ]
  },
  {
   "cell_type": "code",
   "execution_count": 23,
   "metadata": {},
   "outputs": [
    {
     "name": "stdout",
     "output_type": "stream",
     "text": [
      "[1, 2, 3, 4, 5, 6, 45, 45, 58]\n"
     ]
    }
   ],
   "source": [
    "# extend\n",
    "my_list=[1,2,3,4,5,6]\n",
    "my_list.extend([45,45,58])\n",
    "print(my_list)"
   ]
  },
  {
   "cell_type": "code",
   "execution_count": 24,
   "metadata": {},
   "outputs": [
    {
     "name": "stdout",
     "output_type": "stream",
     "text": [
      "[1, 2, 3, 4, 5, 'hello', 6, 7, 8, 9]\n"
     ]
    }
   ],
   "source": [
    "# insert\n",
    "my_list=[1,2,3,4,5,6,7,8,9]\n",
    "my_list.insert(5,\"hello\")\n",
    "print(my_list)"
   ]
  },
  {
   "cell_type": "code",
   "execution_count": 25,
   "metadata": {},
   "outputs": [
    {
     "name": "stdout",
     "output_type": "stream",
     "text": [
      "[1, 2, 3, 4, 5, 6, 7]\n"
     ]
    }
   ],
   "source": [
    "# remove\n",
    "my_list=[1,2,3,3,4,5,6,7]\n",
    "my_list.remove(3)\n",
    "print(my_list)"
   ]
  },
  {
   "cell_type": "code",
   "execution_count": 26,
   "metadata": {},
   "outputs": [
    {
     "name": "stdout",
     "output_type": "stream",
     "text": [
      "[1, 2, 3, 3, 4, 5, 6]\n"
     ]
    }
   ],
   "source": [
    "#  pop\n",
    "\n",
    "my_list=[1,2,3,3,4,5,6,7]\n",
    "my_list.pop() \n",
    "print(my_list)"
   ]
  },
  {
   "cell_type": "code",
   "execution_count": 27,
   "metadata": {},
   "outputs": [
    {
     "name": "stdout",
     "output_type": "stream",
     "text": [
      "[]\n"
     ]
    }
   ],
   "source": [
    "# clear\n",
    "\n",
    "my_list=[1,2,3,3,4,5,6,7]\n",
    "my_list.clear() \n",
    "print(my_list)"
   ]
  },
  {
   "cell_type": "code",
   "execution_count": 28,
   "metadata": {},
   "outputs": [
    {
     "data": {
      "text/plain": [
       "4"
      ]
     },
     "execution_count": 28,
     "metadata": {},
     "output_type": "execute_result"
    }
   ],
   "source": [
    "# index\n",
    "\n",
    "list=[1,2,3,4,5]\n",
    "list.index(5)\n",
    "# print(list)"
   ]
  },
  {
   "cell_type": "code",
   "execution_count": 29,
   "metadata": {},
   "outputs": [
    {
     "data": {
      "text/plain": [
       "2"
      ]
     },
     "execution_count": 29,
     "metadata": {},
     "output_type": "execute_result"
    }
   ],
   "source": [
    "# count\n",
    "\n",
    "list=[1,2,3,3,4,5]\n",
    "list.count(3)\n",
    "# print(list)"
   ]
  },
  {
   "cell_type": "code",
   "execution_count": 30,
   "metadata": {},
   "outputs": [
    {
     "name": "stdout",
     "output_type": "stream",
     "text": [
      "[1, 2, 3, 4, 5, 56]\n"
     ]
    }
   ],
   "source": [
    "# sort for ascending order by default\n",
    "a=[5,1,3,4,56,2]\n",
    "a.sort()\n",
    "print(a)"
   ]
  },
  {
   "cell_type": "code",
   "execution_count": 31,
   "metadata": {},
   "outputs": [
    {
     "name": "stdout",
     "output_type": "stream",
     "text": [
      "[56, 5, 4, 3, 2, 1]\n"
     ]
    }
   ],
   "source": [
    "# reverse for descending order\n",
    "a=[5,1,3,4,56,2]\n",
    "a.sort(reverse=True)\n",
    "print(a)"
   ]
  },
  {
   "cell_type": "code",
   "execution_count": 32,
   "metadata": {},
   "outputs": [
    {
     "name": "stdout",
     "output_type": "stream",
     "text": [
      "[1, 2, 3, 4, 5, 6]\n"
     ]
    }
   ],
   "source": [
    "# copy\n",
    "ab=[1,2,3,4,5,6]\n",
    "cm=ab.copy()\n",
    "print(cm)"
   ]
  },
  {
   "cell_type": "code",
   "execution_count": 33,
   "metadata": {},
   "outputs": [
    {
     "data": {
      "text/plain": [
       "2"
      ]
     },
     "execution_count": 33,
     "metadata": {},
     "output_type": "execute_result"
    }
   ],
   "source": [
    "# len\n",
    "list=[\"aru\",2]\n",
    "len(list)"
   ]
  },
  {
   "cell_type": "code",
   "execution_count": 34,
   "metadata": {},
   "outputs": [
    {
     "data": {
      "text/plain": [
       "6"
      ]
     },
     "execution_count": 34,
     "metadata": {},
     "output_type": "execute_result"
    }
   ],
   "source": [
    "# min, sum,max\n",
    "ab=[1,2,3,4,5,6]\n",
    "min(ab)\n",
    "sum(ab)\n",
    "max(ab)"
   ]
  },
  {
   "cell_type": "markdown",
   "metadata": {},
   "source": [
    "# question"
   ]
  },
  {
   "cell_type": "code",
   "execution_count": 25,
   "metadata": {},
   "outputs": [
    {
     "name": "stdout",
     "output_type": "stream",
     "text": [
      "['noida', 'delhi', 'banana', 'apple']\n"
     ]
    }
   ],
   "source": [
    "list=[\"apple\",\"delhi\"]\n",
    "list.append(\"noida\")\n",
    "list.insert( 1,\"banana\")\n",
    "list.reverse()\n",
    "print(list)\n"
   ]
  },
  {
   "cell_type": "code",
   "execution_count": 52,
   "metadata": {},
   "outputs": [
    {
     "name": "stdout",
     "output_type": "stream",
     "text": [
      "[[11, 12, 13], [14, 15, 16], [70, 18, 19]]\n",
      "[[11, 12, 13], [14, 15, 16], [70, 18, 19]]\n",
      "[[11, 12, 13], [14, 15, 16, 36], [70, 18, 19]]\n",
      "[[11, 12, 13], [14, 15, 16, 36], [70, 18, 19], [22, 55, 66]]\n"
     ]
    }
   ],
   "source": [
    "ab=[[11,12,13],\n",
    "    [14,15,16],\n",
    "    [17,18,19]\n",
    "    ]\n",
    "ab[2][0]=70#modify\n",
    "print(ab)\n",
    "ab[0][0]\n",
    "print(ab)\n",
    "ab[1][2]\n",
    "ab[1].append(36)\n",
    "print(ab)\n",
    "ab.append([22,55,66])\n",
    "print(ab)"
   ]
  },
  {
   "cell_type": "code",
   "execution_count": 6,
   "metadata": {},
   "outputs": [
    {
     "name": "stdout",
     "output_type": "stream",
     "text": [
      "11 12 13 \n",
      "14 15 16 \n",
      "17 18 19 \n"
     ]
    }
   ],
   "source": [
    "ab=[[11,12,13],\n",
    "    [14,15,16],\n",
    "    [17,18,19]\n",
    "    ]\n",
    "for i in ab:\n",
    " for j in i:\n",
    "    print(j, end=' ' )\n",
    " print()"
   ]
  },
  {
   "cell_type": "markdown",
   "metadata": {},
   "source": [
    "# advanced example with list comprehension"
   ]
  },
  {
   "cell_type": "code",
   "execution_count": 4,
   "metadata": {},
   "outputs": [
    {
     "name": "stdout",
     "output_type": "stream",
     "text": [
      "[4, 16, 36]\n"
     ]
    }
   ],
   "source": [
    "ab=[1,2,3,4,5,6,7,]\n",
    "t=[i**2 for i in ab if i%2==0]\n",
    "print(t)"
   ]
  },
  {
   "cell_type": "code",
   "execution_count": 1,
   "metadata": {},
   "outputs": [],
   "source": [
    "def a(n):\n",
    "  for i in range(n,n+i):\n",
    "    for j in i:\n",
    "      print(\"*\"*j)\n",
    "  print(a)"
   ]
  },
  {
   "cell_type": "code",
   "execution_count": null,
   "metadata": {},
   "outputs": [],
   "source": []
  },
  {
   "cell_type": "code",
   "execution_count": null,
   "metadata": {},
   "outputs": [],
   "source": [
    "\n"
   ]
  }
 ],
 "metadata": {
  "kernelspec": {
   "display_name": "Python 3",
   "language": "python",
   "name": "python3"
  },
  "language_info": {
   "codemirror_mode": {
    "name": "ipython",
    "version": 3
   },
   "file_extension": ".py",
   "mimetype": "text/x-python",
   "name": "python",
   "nbconvert_exporter": "python",
   "pygments_lexer": "ipython3",
   "version": "3.13.0"
  }
 },
 "nbformat": 4,
 "nbformat_minor": 2
}

{
 "cells": [
  {
   "cell_type": "markdown",
   "metadata": {},
   "source": [
    "# tuple"
   ]
  },
  {
   "cell_type": "code",
   "execution_count": null,
   "metadata": {},
   "outputs": [],
   "source": [
    "# basic tuple creation\n",
    "basic_tuple=(1,2,3,4,5)\n",
    "# tuple with mixed datatype\n",
    "mixed_tuple=(1,\"hello\",3.14)\n",
    "print(mixed_tuple[1])\n",
    "# nested tuple\n",
    "nested_tuple=(1,(2,3),[4,5])\n",
    "print(basic_tuple)"
   ]
  },
  {
   "cell_type": "code",
   "execution_count": 39,
   "metadata": {},
   "outputs": [
    {
     "name": "stdout",
     "output_type": "stream",
     "text": [
      "(1, 2, 3, 4)\n",
      "1\n"
     ]
    }
   ],
   "source": [
    "# unpacking in tuple\n",
    "a=(1,2,3,4)\n",
    "\n",
    "print(a)\n",
    "\n",
    "q,b,c,d=a\n",
    "print(q)"
   ]
  },
  {
   "cell_type": "code",
   "execution_count": null,
   "metadata": {},
   "outputs": [],
   "source": [
    "# slicing in tuple\n",
    "a=(1,2,3,4,5,6,7,8)\n",
    "a[2:7]\n",
    "a[::-1] # reverse tuple and :: means steps\n",
    "a[::-2] # reverse tuple and :: means steps\n"
   ]
  },
  {
   "cell_type": "code",
   "execution_count": null,
   "metadata": {},
   "outputs": [],
   "source": [
    "# nested tuple\n",
    "nested_tuple=(1,(2,3),(4,(5,6)))\n",
    "nested_tuple[2][1][1]"
   ]
  },
  {
   "cell_type": "code",
   "execution_count": null,
   "metadata": {},
   "outputs": [],
   "source": [
    "# tuple in method\n",
    "sample_tuple=(1,2,3,1,1)\n",
    "print(sample_tuple.count(1))\n",
    "print(sample_tuple.index(3))"
   ]
  },
  {
   "cell_type": "code",
   "execution_count": null,
   "metadata": {},
   "outputs": [],
   "source": [
    "# concanet in tuple\n",
    "a=(1,2,3,4,5,6,7)\n",
    "\n",
    "zx=a[:3]+(14,)+ a[4:]\n",
    "print(zx)"
   ]
  },
  {
   "cell_type": "code",
   "execution_count": null,
   "metadata": {},
   "outputs": [],
   "source": [
    "# unpacking\n",
    "tuple=(11,12,13,14,15)\n",
    "a,b,c,d,e=tuple# unpacking\n",
    "tuple = (11, 12, 13, 14, 15)\n",
    "a, b, c, d, e = tuple\n",
    "print(\"Unpacked values:\", a, b, c, d, e)\n",
    "print(\"Second value:\", b)\n",
    "print(a,b,c,d,e)\n",
    "print(b)"
   ]
  },
  {
   "cell_type": "code",
   "execution_count": 1,
   "metadata": {},
   "outputs": [
    {
     "name": "stdout",
     "output_type": "stream",
     "text": [
      "{('a', 'b'): 67, ('c', 'd'): 56}\n"
     ]
    }
   ],
   "source": [
    "ab={(\"a\",\"b\"):67,(\"c\",\"d\"):56}\n",
    "print(ab)"
   ]
  },
  {
   "cell_type": "code",
   "execution_count": 6,
   "metadata": {},
   "outputs": [
    {
     "name": "stdout",
     "output_type": "stream",
     "text": [
      "22\n",
      "44\n",
      "33\n",
      "{'a': 22, 'b': 33, 'c': 44}\n"
     ]
    }
   ],
   "source": [
    "from collections import namedtuple as nt\n",
    "ab=nt(\"txt\",[\"a\",\"b\",\"c\"])\n",
    "v=ab(22,33,44)\n",
    "print(v.a)\n",
    "print(v.c)\n",
    "print(v.b)\n",
    "print(v._asdict())"
   ]
  },
  {
   "cell_type": "code",
   "execution_count": 18,
   "metadata": {},
   "outputs": [
    {
     "name": "stdout",
     "output_type": "stream",
     "text": [
      "(0, 8, 16)\n"
     ]
    }
   ],
   "source": [
    "ab=(i*2 for i in range(10)if i%4==0)\n",
    "print(tuple(ab))\n"
   ]
  },
  {
   "cell_type": "code",
   "execution_count": 21,
   "metadata": {},
   "outputs": [
    {
     "name": "stdout",
     "output_type": "stream",
     "text": [
      "104\n",
      "80\n",
      "472\n",
      "224\n"
     ]
    }
   ],
   "source": [
    "import sys\n",
    "list=[1,2,3,4,5]\n",
    "tuple=(1,2,3,4,5)\n",
    "set={11,12,13,14,15}\n",
    "dict={(12,14):\"a\",(20,30):\"b\"}\n",
    "print(sys.getsizeof(list))\n",
    "print(sys.getsizeof(tuple))\n",
    "print(sys.getsizeof(set))\n",
    "print(sys.getsizeof(dict))\n"
   ]
  },
  {
   "cell_type": "markdown",
   "metadata": {},
   "source": [
    "# funtion in python"
   ]
  },
  {
   "cell_type": "code",
   "execution_count": 34,
   "metadata": {},
   "outputs": [
    {
     "data": {
      "text/plain": [
       "95"
      ]
     },
     "execution_count": 34,
     "metadata": {},
     "output_type": "execute_result"
    }
   ],
   "source": [
    "def add(a,b,c):\n",
    "  return a+b+c\n",
    "add(45,5,45)"
   ]
  },
  {
   "cell_type": "code",
   "execution_count": null,
   "metadata": {},
   "outputs": [
    {
     "name": "stdout",
     "output_type": "stream",
     "text": [
      "(4, 1)\n",
      "4 1\n"
     ]
    }
   ],
   "source": [
    "def add(i):\n",
    "  return max(i),min(i)\n",
    "ab=add([1,2,3,4])\n",
    "print(ab)\n",
    "\n",
    "z,x=ab\n",
    "print(z,x)\n",
    "\n"
   ]
  },
  {
   "cell_type": "code",
   "execution_count": null,
   "metadata": {},
   "outputs": [],
   "source": []
  }
 ],
 "metadata": {
  "kernelspec": {
   "display_name": "Python 3",
   "language": "python",
   "name": "python3"
  },
  "language_info": {
   "codemirror_mode": {
    "name": "ipython",
    "version": 3
   },
   "file_extension": ".py",
   "mimetype": "text/x-python",
   "name": "python",
   "nbconvert_exporter": "python",
   "pygments_lexer": "ipython3",
   "version": "3.13.0"
  }
 },
 "nbformat": 4,
 "nbformat_minor": 2
}

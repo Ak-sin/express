{
 "cells": [
  {
   "cell_type": "markdown",
   "metadata": {},
   "source": [
    "# tuple"
   ]
  },
  {
   "cell_type": "code",
   "execution_count": 4,
   "metadata": {},
   "outputs": [
    {
     "name": "stdout",
     "output_type": "stream",
     "text": [
      "hello\n",
      "(1, 2, 3, 4, 5)\n"
     ]
    }
   ],
   "source": [
    "# basic tuple creation\n",
    "basic_tuple=(1,2,3,4,5)\n",
    "# tuple with mixed datatype\n",
    "mixed_tuple=(1,\"hello\",3.14)\n",
    "print(mixed_tuple[1])\n",
    "# nested tuple\n",
    "nested_tuple=(1,(2,3),[4,5])\n",
    "print(basic_tuple)"
   ]
  },
  {
   "cell_type": "code",
   "execution_count": 5,
   "metadata": {},
   "outputs": [
    {
     "name": "stdout",
     "output_type": "stream",
     "text": [
      "(1, 2, 3, 4)\n",
      "1 2 3 4\n"
     ]
    }
   ],
   "source": [
    "# unpacking in tuple\n",
    "a=(1,2,3,4)\n",
    "\n",
    "print(a)\n",
    "\n",
    "q,b,c,d=a\n",
    "print(q,b,c,d)"
   ]
  },
  {
   "cell_type": "code",
   "execution_count": 12,
   "metadata": {},
   "outputs": [
    {
     "data": {
      "text/plain": [
       "(8, 6, 4, 2)"
      ]
     },
     "execution_count": 12,
     "metadata": {},
     "output_type": "execute_result"
    }
   ],
   "source": [
    "# slicing in tuple\n",
    "a=(1,2,3,4,5,6,7,8)\n",
    "a[2:7]\n",
    "a[::-1] # reverse tuple and :: means steps\n",
    "a[::-2] # reverse tuple and :: means steps\n"
   ]
  },
  {
   "cell_type": "code",
   "execution_count": 15,
   "metadata": {},
   "outputs": [
    {
     "data": {
      "text/plain": [
       "6"
      ]
     },
     "execution_count": 15,
     "metadata": {},
     "output_type": "execute_result"
    }
   ],
   "source": [
    "# nested tuple\n",
    "nested_tuple=(1,(2,3),(4,(5,6)))\n",
    "nested_tuple[2][1][1]"
   ]
  },
  {
   "cell_type": "code",
   "execution_count": 18,
   "metadata": {},
   "outputs": [
    {
     "name": "stdout",
     "output_type": "stream",
     "text": [
      "3\n",
      "2\n"
     ]
    }
   ],
   "source": [
    "# tuple in method\n",
    "sample_tuple=(1,2,3,1,1)\n",
    "print(sample_tuple.count(1))\n",
    "print(sample_tuple.index(3))"
   ]
  },
  {
   "cell_type": "code",
   "execution_count": null,
   "metadata": {},
   "outputs": [
    {
     "name": "stdout",
     "output_type": "stream",
     "text": [
      "(1, 2, 3, 14, 5, 6, 7)\n"
     ]
    }
   ],
   "source": [
    "# concanet in tuple\n",
    "a=(1,2,3,4,5,6,7)\n",
    "\n",
    "zx=a[:3]+(14,)+ a[4:]\n",
    "print(zx)"
   ]
  },
  {
   "cell_type": "code",
   "execution_count": null,
   "metadata": {},
   "outputs": [],
   "source": []
  },
  {
   "cell_type": "code",
   "execution_count": null,
   "metadata": {},
   "outputs": [],
   "source": []
  }
 ],
 "metadata": {
  "kernelspec": {
   "display_name": "Python 3",
   "language": "python",
   "name": "python3"
  },
  "language_info": {
   "codemirror_mode": {
    "name": "ipython",
    "version": 3
   },
   "file_extension": ".py",
   "mimetype": "text/x-python",
   "name": "python",
   "nbconvert_exporter": "python",
   "pygments_lexer": "ipython3",
   "version": "3.13.0"
  }
 },
 "nbformat": 4,
 "nbformat_minor": 2
}

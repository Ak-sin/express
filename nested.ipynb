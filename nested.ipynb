{
 "cells": [
  {
   "cell_type": "code",
   "execution_count": 1,
   "metadata": {},
   "outputs": [
    {
     "name": "stdout",
     "output_type": "stream",
     "text": [
      "<class 'int'>\n"
     ]
    }
   ],
   "source": [
    "a=int(\"5698\")\n",
    "print(type(a))\n",
    "\n"
   ]
  },
  {
   "cell_type": "code",
   "execution_count": 3,
   "metadata": {},
   "outputs": [
    {
     "name": "stdout",
     "output_type": "stream",
     "text": [
      "not\n"
     ]
    }
   ],
   "source": [
    "#nested if \n",
    "age=55\n",
    "if age>=20:\n",
    "  if age>=25:\n",
    "    if age>=30:\n",
    "       print(\"ok\")\n",
    "    else:\n",
    "      print(\"not\")\n",
    "  \n",
    "else:\n",
    "  print(\"adult\")  \n",
    "    "
   ]
  },
  {
   "cell_type": "code",
   "execution_count": 7,
   "metadata": {},
   "outputs": [
    {
     "name": "stdout",
     "output_type": "stream",
     "text": [
      "you are not \n"
     ]
    }
   ],
   "source": [
    "a = 25\n",
    "if not a>=20:\n",
    "  print(\"you are eligible\")\n",
    "else:\n",
    "  print(\"you are not \")"
   ]
  },
  {
   "cell_type": "code",
   "execution_count": 2,
   "metadata": {},
   "outputs": [
    {
     "name": "stdout",
     "output_type": "stream",
     "text": [
      "ellll\n"
     ]
    }
   ],
   "source": [
    "a = int(input(\"enter your number: \"))\n",
    "if not a<=18 or not a<=60:\n",
    "  if not a>=30 and not a>=60:\n",
    "    print(\"el\")\n",
    "  else:\n",
    "    print(\"ellll\")\n",
    "else:\n",
    "  print(\"not\")"
   ]
  },
  {
   "cell_type": "code",
   "execution_count": 3,
   "metadata": {},
   "outputs": [
    {
     "name": "stdout",
     "output_type": "stream",
     "text": [
      "grade is A\n"
     ]
    }
   ],
   "source": [
    "per =int(input(\"enter your number:\"))\n",
    "if per>80:\n",
    "  print(\"grade is A+\")\n",
    "if per>=60 and per<=80:\n",
    "  print(\"grade is A\")\n",
    "if per>=50 and per<=60:\n",
    "  print(\"grade is B+\")\n",
    "if per>=45 and per<=50:\n",
    "  print(\"grade is B\")\n",
    "if per>=25 and per<=45:\n",
    "  print(\"grade is C\")\n",
    "if per<25:\n",
    "  print(\"grade is D\")"
   ]
  }
 ],
 "metadata": {
  "kernelspec": {
   "display_name": "Python 3",
   "language": "python",
   "name": "python3"
  },
  "language_info": {
   "codemirror_mode": {
    "name": "ipython",
    "version": 3
   },
   "file_extension": ".py",
   "mimetype": "text/x-python",
   "name": "python",
   "nbconvert_exporter": "python",
   "pygments_lexer": "ipython3",
   "version": "3.13.0"
  }
 },
 "nbformat": 4,
 "nbformat_minor": 2
}

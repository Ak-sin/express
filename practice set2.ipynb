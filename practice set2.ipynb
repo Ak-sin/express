{
 "cells": [
  {
   "cell_type": "code",
   "execution_count": null,
   "metadata": {},
   "outputs": [],
   "source": [
    "# question-1\n",
    "\n",
    "for i in range(1,51):\n",
    "  if i%2==0:\n",
    "    print(i,\"is even number\" )\n",
    "    "
   ]
  },
  {
   "cell_type": "code",
   "execution_count": null,
   "metadata": {},
   "outputs": [],
   "source": [
    "# question-2\n",
    "number=[1,2,3,4,5,6,7,8,9,10]\n",
    "for i in number:\n",
    "  if i%2!=0:\n",
    "    print(i,\"is odd number\")"
   ]
  },
  {
   "cell_type": "code",
   "execution_count": null,
   "metadata": {},
   "outputs": [],
   "source": [
    "# question-3\n",
    "# user=1,2,3,4,5,6,7,8,9,10\n",
    "user=int(input(\"enter your number\"))\n",
    "for i in range(1,11):\n",
    "  print(user,\"x\",i,\"=\",user*i)"
   ]
  },
  {
   "cell_type": "code",
   "execution_count": null,
   "metadata": {},
   "outputs": [],
   "source": [
    "# question-4\n",
    "def sum_of_numbers(numbers):\n",
    "   total=0\n",
    "   for i in numbers:\n",
    "    total+=1\n",
    "   return total\n",
    "print(sum_of_numbers(5))"
   ]
  },
  {
   "cell_type": "code",
   "execution_count": 3,
   "metadata": {},
   "outputs": [
    {
     "name": "stdout",
     "output_type": "stream",
     "text": [
      "*\n",
      "**\n",
      "***\n",
      "****\n"
     ]
    }
   ],
   "source": [
    "# question-8\n",
    "\n",
    "def print_pattern(n):\n",
    "    for i in range(1,n+1):\n",
    "        # for j in range(n+2):\n",
    "         print('*' * i)\n",
    "print_pattern(4)"
   ]
  },
  {
   "cell_type": "code",
   "execution_count": null,
   "metadata": {},
   "outputs": [],
   "source": []
  },
  {
   "cell_type": "code",
   "execution_count": null,
   "metadata": {},
   "outputs": [],
   "source": [
    " "
   ]
  },
  {
   "cell_type": "code",
   "execution_count": null,
   "metadata": {},
   "outputs": [],
   "source": [
    "for i in range (1,11):\n",
    "  for j in range (1,11):\n",
    "    print(f\"{i*j:4}\",end=\" \")\n",
    "  print()\n",
    "  "
   ]
  },
  {
   "cell_type": "code",
   "execution_count": null,
   "metadata": {},
   "outputs": [],
   "source": []
  }
 ],
 "metadata": {
  "kernelspec": {
   "display_name": "Python 3",
   "language": "python",
   "name": "python3"
  },
  "language_info": {
   "codemirror_mode": {
    "name": "ipython",
    "version": 3
   },
   "file_extension": ".py",
   "mimetype": "text/x-python",
   "name": "python",
   "nbconvert_exporter": "python",
   "pygments_lexer": "ipython3",
   "version": "3.13.0"
  }
 },
 "nbformat": 4,
 "nbformat_minor": 2
}

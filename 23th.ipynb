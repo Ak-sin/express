{
 "cells": [
  {
   "cell_type": "code",
   "execution_count": 3,
   "metadata": {},
   "outputs": [
    {
     "name": "stdout",
     "output_type": "stream",
     "text": [
      "ok\n"
     ]
    }
   ],
   "source": [
    "age=int(input(\"enter your number:\"))\n",
    "if not age>=18:\n",
    "  print(\"ok\") \n",
    "else:\n",
    "  print(\"not\")"
   ]
  },
  {
   "cell_type": "code",
   "execution_count": 2,
   "metadata": {},
   "outputs": [
    {
     "name": "stdout",
     "output_type": "stream",
     "text": [
      "ok\n",
      "u are 21 or olderr\n"
     ]
    }
   ],
   "source": [
    "age=int(input(\"enter your number:\"))\n",
    "if not age>=18 and not age>=60:\n",
    "   if not age<21:\n",
    "     print(\"u are adult\")\n",
    "   else:\n",
    "     print(\"u are 21 \")\n",
    "else:\n",
    "  print(\"ok\")\n",
    "  \n",
    "  if age>=16:\n",
    "     if age<14:\n",
    "       print(\"u are an adult but not yet 21\")\n",
    "     else:\n",
    "       print(\"u are 21 or older\")\n",
    "  else:\n",
    "     print(\"u are not an adult\")\n",
    "\n"
   ]
  },
  {
   "cell_type": "code",
   "execution_count": 19,
   "metadata": {},
   "outputs": [
    {
     "name": "stdout",
     "output_type": "stream",
     "text": [
      "you are eligible\n",
      "you can vote\n"
     ]
    }
   ],
   "source": [
    "user=int(input(\"enter your number:\"))\n",
    "if user>25:\n",
    "  if user>30:\n",
    "    print(\"you are eligible\")\n",
    "  else:\n",
    "    print(\"you are not eligibl\")\n",
    "else:\n",
    "  print(\"you are not eligible\")\n",
    "  \n",
    "if user>=18:\n",
    "  print(\"you can vote\")\n",
    "else:\n",
    "  print(\"you can not vote\")"
   ]
  },
  {
   "cell_type": "code",
   "execution_count": 21,
   "metadata": {},
   "outputs": [],
   "source": [
    "per =int(input(\"enter your number:\"))\n",
    "if per>90 and per<=100:\n",
    "  print(\"grade is A\")\n",
    "elif per>=80 and per<=90:\n",
    "  print(\"grade is B\")\n",
    "elif per>=70 and per<=80:\n",
    "  print(\"grade is C\")\n",
    "elif per>=60 and per<=70:\n",
    "  print(\"grade is D\")\n"
   ]
  },
  {
   "cell_type": "code",
   "execution_count": 22,
   "metadata": {},
   "outputs": [
    {
     "name": "stdout",
     "output_type": "stream",
     "text": [
      "you are eligible to vote\n"
     ]
    }
   ],
   "source": [
    "age=20\n",
    "citizen=False\n",
    "if age>=18 and not citizen :\n",
    "  print(\"you are eligible to vote\")\n",
    "else:\n",
    "  print(\"not vote\")"
   ]
  },
  {
   "cell_type": "code",
   "execution_count": 2,
   "metadata": {},
   "outputs": [
    {
     "name": "stdout",
     "output_type": "stream",
     "text": [
      "it is positive odd number\n"
     ]
    }
   ],
   "source": [
    "user=int(input(\"enter your number:\"))\n",
    "if user%2==0:\n",
    "   print(\"it is  positive even number\")\n",
    "else:\n",
    "  print(\"it is positive odd number\")\n",
    "  "
   ]
  },
  {
   "cell_type": "code",
   "execution_count": 3,
   "metadata": {},
   "outputs": [
    {
     "data": {
      "text/plain": [
       "4"
      ]
     },
     "execution_count": 3,
     "metadata": {},
     "output_type": "execute_result"
    }
   ],
   "source": [
    "3-2"
   ]
  }
 ],
 "metadata": {
  "kernelspec": {
   "display_name": "Python 3",
   "language": "python",
   "name": "python3"
  },
  "language_info": {
   "codemirror_mode": {
    "name": "ipython",
    "version": 3
   },
   "file_extension": ".py",
   "mimetype": "text/x-python",
   "name": "python",
   "nbconvert_exporter": "python",
   "pygments_lexer": "ipython3",
   "version": "3.13.0"
  }
 },
 "nbformat": 4,
 "nbformat_minor": 2
}

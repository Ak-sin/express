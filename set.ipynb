{
 "cells": [
  {
   "cell_type": "code",
   "execution_count": null,
   "metadata": {},
   "outputs": [
    {
     "name": "stdout",
     "output_type": "stream",
     "text": [
      "{1, 2, 3, 4, 5}\n"
     ]
    }
   ],
   "source": [
    "#creating a set with elements\n",
    "my_set={1,2,3,4,5}\n",
    "print(my_set)\n",
    "\n",
    "# empty set\n",
    "empty=set()\n",
    "\n",
    "\n",
    "my_sett={}"
   ]
  },
  {
   "cell_type": "code",
   "execution_count": 38,
   "metadata": {},
   "outputs": [
    {
     "data": {
      "text/plain": [
       "{'e', 'h', 'l', 'o'}"
      ]
     },
     "execution_count": 38,
     "metadata": {},
     "output_type": "execute_result"
    }
   ],
   "source": [
    "list=[1,2,3,4,5]\n",
    "string=\"hello\"\n",
    "set(list)\n",
    "set(string)"
   ]
  },
  {
   "cell_type": "code",
   "execution_count": 39,
   "metadata": {},
   "outputs": [
    {
     "name": "stdout",
     "output_type": "stream",
     "text": [
      "1\n",
      "2\n",
      "3\n",
      "4\n",
      "5\n"
     ]
    }
   ],
   "source": [
    "\n",
    "my_set={1,2,3,4,5}\n",
    "for element in my_set:\n",
    "  print(element)"
   ]
  },
  {
   "cell_type": "code",
   "execution_count": 11,
   "metadata": {},
   "outputs": [
    {
     "name": "stdout",
     "output_type": "stream",
     "text": [
      "{1, 2, 3, 4, 5}\n"
     ]
    }
   ],
   "source": [
    "# set in function\n",
    "\n",
    "my_set={1,2,3,4,5}\n",
    "# my_set.add(8)\n",
    "# print(my_set)\n",
    "# my_set.remove(5)\n",
    "# print(my_set)\n",
    "# my_set.clear()\n",
    "# print(my_set)\n",
    "# my_set.pop()\n",
    "# print(my_set)\n",
    "my_set.discard(6)\n",
    "print(my_set)"
   ]
  },
  {
   "cell_type": "code",
   "execution_count": 41,
   "metadata": {},
   "outputs": [
    {
     "data": {
      "text/plain": [
       "'set1=1,2,3\\nset2=3,4,5\\nunion=1,2,3,4,5\\ninter=3\\ndiff=set1-set2=1,2\\n    set2-set1=4,5\\nsys_diff=1,2,4,5'"
      ]
     },
     "execution_count": 41,
     "metadata": {},
     "output_type": "execute_result"
    }
   ],
   "source": [
    "# set operator\n",
    "\"\"\"set1=1,2,3\n",
    "set2=3,4,5\n",
    "union=1,2,3,4,5\n",
    "inter=3\n",
    "diff=set1-set2=1,2\n",
    "    set2-set1=4,5\n",
    "sys_diff=1,2,4,5\"\"\""
   ]
  },
  {
   "cell_type": "code",
   "execution_count": 42,
   "metadata": {},
   "outputs": [
    {
     "name": "stdout",
     "output_type": "stream",
     "text": [
      "{1, 2, 3, 4, 5}\n",
      "{3}\n",
      "{1, 2}\n",
      "{1, 2, 4, 5}\n"
     ]
    }
   ],
   "source": [
    "set1={1,2,3}\n",
    "set2={3,4,5}\n",
    "\n",
    "my_set=set1 | set2# union( | )\n",
    "print(my_set)\n",
    "\n",
    "my_set=set1.intersection(set2)# intersection(&)\n",
    "print(my_set)\n",
    "\n",
    "my_set=set1.difference(set2)# difference(-)\n",
    "print(my_set)\n",
    "\n",
    "my_set=set1.symmetric_difference(set2)# sym(^)\n",
    "print(my_set)\n",
    "\n"
   ]
  },
  {
   "cell_type": "markdown",
   "metadata": {},
   "source": [
    "# subset and superset"
   ]
  },
  {
   "cell_type": "code",
   "execution_count": 43,
   "metadata": {},
   "outputs": [
    {
     "name": "stdout",
     "output_type": "stream",
     "text": [
      "True\n",
      "True\n"
     ]
    }
   ],
   "source": [
    "set1={1,2,3}\n",
    "set2={1,2,3,4,5,6}\n",
    "\n",
    "print(set1.issubset(set2))\n",
    "print(set2.issuperset(set1))"
   ]
  },
  {
   "cell_type": "markdown",
   "metadata": {},
   "source": [
    "# other userful method"
   ]
  },
  {
   "cell_type": "code",
   "execution_count": 46,
   "metadata": {},
   "outputs": [
    {
     "name": "stdout",
     "output_type": "stream",
     "text": [
      "{1, 2, 3}\n",
      "True\n",
      "False\n"
     ]
    }
   ],
   "source": [
    "my_set={1,2,3}\n",
    "new_set=my_set.copy()\n",
    "print(new_set)\n",
    "\n",
    "# checking membership\n",
    "print(2 in my_set)\n",
    "print(5 in my_set)"
   ]
  },
  {
   "cell_type": "code",
   "execution_count": null,
   "metadata": {},
   "outputs": [],
   "source": []
  }
 ],
 "metadata": {
  "kernelspec": {
   "display_name": "Python 3",
   "language": "python",
   "name": "python3"
  },
  "language_info": {
   "codemirror_mode": {
    "name": "ipython",
    "version": 3
   },
   "file_extension": ".py",
   "mimetype": "text/x-python",
   "name": "python",
   "nbconvert_exporter": "python",
   "pygments_lexer": "ipython3",
   "version": "3.13.0"
  }
 },
 "nbformat": 4,
 "nbformat_minor": 2
}

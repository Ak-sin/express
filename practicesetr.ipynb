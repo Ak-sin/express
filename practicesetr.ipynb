{
 "cells": [
  {
   "cell_type": "code",
   "execution_count": null,
   "metadata": {},
   "outputs": [
    {
     "name": "stdout",
     "output_type": "stream",
     "text": [
      "List of integers: [1, 2, 3, 4, 5]\n",
      "First element: 1\n",
      "Last element: 5\n",
      "List of integers: [1, 2, 3, 4, 5]\n",
      "First element: 1\n",
      "Last element: 5\n"
     ]
    }
   ],
   "source": [
    "# question-1\n",
    "\n",
    "# Create a list of integers\n",
    "integers_list = [1, 2, 3, 4, 5]\n",
    "\n",
    "# Print the list\n",
    "print(\"List of integers:\", integers_list)\n",
    "# Access and print the first and last elements\n",
    "first_element = integers_list[0]\n",
    "last_element = integers_list[-1]\n",
    "\n",
    "print(\"First element:\", first_element)\n",
    "print(\"Last element:\", last_element)\n",
    "# Create a list of integers\n",
    "integers_list = [1, 2, 3, 4, 5]\n",
    "\n",
    "# Print the list\n",
    "print(\"List of integers:\", integers_list)\n",
    "\n",
    "# Access and print the first and last elements\n",
    "first_element = integers_list[0]\n",
    "last_element = integers_list[-1]\n",
    "\n",
    "print(\"First element:\", first_element)\n",
    "print(\"Last element:\", last_element)\n"
   ]
  },
  {
   "cell_type": "code",
   "execution_count": 2,
   "metadata": {},
   "outputs": [
    {
     "name": "stdout",
     "output_type": "stream",
     "text": [
      "Updated list: [1, 2, 3, 4, 5, 6]\n",
      "Updated list: [1, 2, 3, 4, 5, 6]\n"
     ]
    }
   ],
   "source": [
    "# question-2\n",
    "\n",
    "# Program to add an element to the end of a list\n",
    "my_list = [1, 2, 3, 4, 5]\n",
    "element = 6\n",
    "\n",
    "# Adding the element to the end of the list\n",
    "my_list.append(element)\n",
    "\n",
    "print(\"Updated list:\", my_list)\n",
    "# Program to insert an element at a specific position in a list\n",
    "my_list = [1, 2, 3, 5, 6]\n",
    "element = 4\n",
    "position = 3  # Index starts from 0\n",
    "\n",
    "# Inserting the element at the specified position\n",
    "my_list.insert(position, element)\n",
    "\n",
    "print(\"Updated list:\", my_list)\n"
   ]
  },
  {
   "cell_type": "code",
   "execution_count": 3,
   "metadata": {},
   "outputs": [
    {
     "name": "stdout",
     "output_type": "stream",
     "text": [
      "First three elements: [10, 20, 30]\n",
      "Every second element: [20, 40]\n"
     ]
    }
   ],
   "source": [
    "# question-3\n",
    "\n",
    "# Define a list\n",
    "my_list = [10, 20, 30, 40, 50]\n",
    "\n",
    "# Slice to get the first three elements\n",
    "first_three_elements = my_list[:3]\n",
    "\n",
    "print(\"First three elements:\", first_three_elements)\n",
    "# Define a list\n",
    "my_list = [10, 20, 30, 40, 50]\n",
    "\n",
    "# Get every second element\n",
    "every_second_element = my_list[1::2]\n",
    "\n",
    "print(\"Every second element:\", every_second_element)\n"
   ]
  },
  {
   "cell_type": "code",
   "execution_count": 4,
   "metadata": {},
   "outputs": [
    {
     "name": "stdout",
     "output_type": "stream",
     "text": [
      "Original list: [1, 2, 3, 4, 5]\n",
      "List of squares: [1, 4, 9, 16, 25]\n",
      "Original list: [1, 2, 3, 4, 5, 6, 7, 8]\n",
      "List without even numbers: [1, 3, 5, 7]\n"
     ]
    }
   ],
   "source": [
    "# question-4\n",
    "\n",
    "# List of numbers\n",
    "numbers = [1, 2, 3, 4, 5]\n",
    "\n",
    "# Creating a new list with the squares of all elements\n",
    "squares = [x**2 for x in numbers]\n",
    "\n",
    "print(\"Original list:\", numbers)\n",
    "print(\"List of squares:\", squares)\n",
    "# List of numbers\n",
    "numbers = [1, 2, 3, 4, 5, 6, 7, 8]\n",
    "\n",
    "# Filtering out all even numbers\n",
    "odd_numbers = [x for x in numbers if x % 2 != 0]\n",
    "\n",
    "print(\"Original list:\", numbers)\n",
    "print(\"List without even numbers:\", odd_numbers)\n"
   ]
  },
  {
   "cell_type": "code",
   "execution_count": 5,
   "metadata": {},
   "outputs": [
    {
     "name": "stdout",
     "output_type": "stream",
     "text": [
      "List after removing element: [1, 2, 4, 5]\n",
      "List after removing all occurrences: [1, 2, 4, 5]\n"
     ]
    }
   ],
   "source": [
    "# question-5\n",
    "\n",
    "def remove_element(lst, element):\n",
    "    if element in lst:\n",
    "        lst.remove(element)\n",
    "    return lst\n",
    "\n",
    "# Example usage\n",
    "my_list = [1, 2, 3, 4, 5]\n",
    "element_to_remove = 3\n",
    "result = remove_element(my_list, element_to_remove)\n",
    "print(\"List after removing element:\", result)\n",
    "def remove_all_occurrences(lst, value):\n",
    "    return [item for item in lst if item != value]\n",
    "\n",
    "# Example usage\n",
    "my_list = [1, 2, 3, 3, 4, 5, 3]\n",
    "value_to_remove = 3\n",
    "result = remove_all_occurrences(my_list, value_to_remove)\n",
    "print(\"List after removing all occurrences:\", result)\n"
   ]
  },
  {
   "cell_type": "code",
   "execution_count": 6,
   "metadata": {},
   "outputs": [
    {
     "name": "stdout",
     "output_type": "stream",
     "text": [
      "Sorted list: [5, 7, 23, 32, 34, 62]\n",
      "Original list: [34, 7, 23, 32, 5, 62]\n",
      "Reversed list: [62, 5, 32, 23, 7, 34]\n"
     ]
    }
   ],
   "source": [
    "# question-6\n",
    "\n",
    "# Sort a list of integers in ascending order\n",
    "def sort_list(numbers):\n",
    "    return sorted(numbers)\n",
    "\n",
    "# Example usage\n",
    "numbers = [34, 7, 23, 32, 5, 62]\n",
    "sorted_numbers = sort_list(numbers)\n",
    "print(\"Sorted list:\", sorted_numbers)\n",
    "# Reverse a list\n",
    "def reverse_list(lst):\n",
    "    return lst[::-1]\n",
    "\n",
    "# Example usage\n",
    "original_list = [34, 7, 23, 32, 5, 62]\n",
    "reversed_list = reverse_list(original_list)\n",
    "print(\"Original list:\", original_list)\n",
    "print(\"Reversed list:\", reversed_list)\n"
   ]
  },
  {
   "cell_type": "code",
   "execution_count": 7,
   "metadata": {},
   "outputs": [
    {
     "name": "stdout",
     "output_type": "stream",
     "text": [
      "The length of the list is: 5\n",
      "The maximum value in the list is: 50\n",
      "The minimum value in the list is: 10\n"
     ]
    }
   ],
   "source": [
    "# question-7\n",
    "\n",
    "# Program to find the length of a list\n",
    "my_list = [10, 20, 30, 40, 50]\n",
    "length = len(my_list)\n",
    "print(\"The length of the list is:\", length)\n",
    "# Program to find the maximum and minimum values in a list\n",
    "my_list = [10, 20, 30, 40, 50]\n",
    "maximum = max(my_list)\n",
    "minimum = min(my_list)\n",
    "\n",
    "print(\"The maximum value in the list is:\", maximum)\n",
    "print(\"The minimum value in the list is:\", minimum)\n"
   ]
  },
  {
   "cell_type": "code",
   "execution_count": 8,
   "metadata": {},
   "outputs": [
    {
     "name": "stdout",
     "output_type": "stream",
     "text": [
      "Elements in the list are:\n",
      "10\n",
      "20\n",
      "30\n",
      "40\n",
      "50\n",
      "Number of even numbers: 5\n",
      "Number of odd numbers: 5\n"
     ]
    }
   ],
   "source": [
    "# question-8\n",
    "\n",
    "# Define a list\n",
    "my_list = [10, 20, 30, 40, 50]\n",
    "\n",
    "# Iterate over the list and print each element\n",
    "print(\"Elements in the list are:\")\n",
    "for element in my_list:\n",
    "    print(element)\n",
    "# Define a list\n",
    "numbers = [1, 2, 3, 4, 5, 6, 7, 8, 9, 10]\n",
    "\n",
    "# Initialize counters for even and odd numbers\n",
    "even_count = 0\n",
    "odd_count = 0\n",
    "\n",
    "# Iterate over the list and count even and odd numbers\n",
    "for num in numbers:\n",
    "    if num % 2 == 0:\n",
    "        even_count += 1\n",
    "    else:\n",
    "        odd_count += 1\n",
    "\n",
    "# Print the results\n",
    "print(f\"Number of even numbers: {even_count}\")\n",
    "print(f\"Number of odd numbers: {odd_count}\")\n"
   ]
  },
  {
   "cell_type": "code",
   "execution_count": 9,
   "metadata": {},
   "outputs": [
    {
     "name": "stdout",
     "output_type": "stream",
     "text": [
      "Original Nested List:\n",
      "[1, 2, 3]\n",
      "[4, 5, 6]\n",
      "[7, 8, 9]\n",
      "Element at row 1, column 2: 6\n",
      "Flattened List:\n",
      "[1, 2, 3, 4, 5, 6, 7, 8, 9]\n"
     ]
    }
   ],
   "source": [
    "# question-9\n",
    "\n",
    "# Creating a list of lists\n",
    "nested_list = [\n",
    "    [1, 2, 3],\n",
    "    [4, 5, 6],\n",
    "    [7, 8, 9]\n",
    "]\n",
    "\n",
    "# Accessing elements within the nested lists\n",
    "print(\"Original Nested List:\")\n",
    "for row in nested_list:\n",
    "    print(row)\n",
    "\n",
    "# Accessing a specific element (e.g., element at row 1, column 2)\n",
    "row_index = 1\n",
    "col_index = 2\n",
    "print(f\"Element at row {row_index}, column {col_index}: {nested_list[row_index][col_index]}\")\n",
    "# Function to flatten a nested list\n",
    "def flatten_list(nested_list):\n",
    "    return [item for sublist in nested_list for item in sublist]\n",
    "\n",
    "# Flattening the nested list\n",
    "flattened = flatten_list(nested_list)\n",
    "print(\"Flattened List:\")\n",
    "print(flattened)\n"
   ]
  },
  {
   "cell_type": "code",
   "execution_count": 10,
   "metadata": {},
   "outputs": [
    {
     "name": "stdout",
     "output_type": "stream",
     "text": [
      "List after extending: [1, 2, 3, 4, 5, 6]\n",
      "List after popping: [10, 20, 30]\n",
      "Removed element: 40\n"
     ]
    }
   ],
   "source": [
    "# question-10\n",
    "\n",
    "# Program to add all elements of one list to another using the extend method\n",
    "list1 = [1, 2, 3]\n",
    "list2 = [4, 5, 6]\n",
    "\n",
    "# Adding all elements of list2 to list1\n",
    "list1.extend(list2)\n",
    "\n",
    "print(\"List after extending:\", list1)\n",
    "# Program to remove the last element from a list using the pop method\n",
    "my_list = [10, 20, 30, 40]\n",
    "\n",
    "# Removing the last element\n",
    "last_element = my_list.pop()\n",
    "\n",
    "print(\"List after popping:\", my_list)\n",
    "print(\"Removed element:\", last_element)\n"
   ]
  },
  {
   "cell_type": "code",
   "execution_count": 11,
   "metadata": {},
   "outputs": [
    {
     "name": "stdout",
     "output_type": "stream",
     "text": [
      "[(1, 1), (2, 4), (3, 9), (4, 16), (5, 25), (6, 36), (7, 49), (8, 64), (9, 81), (10, 100)]\n",
      "[1, 2, 3, 4, 5, 6, 7, 8]\n"
     ]
    }
   ],
   "source": [
    "# question-11\n",
    "\n",
    "# Create a list of tuples with numbers and their squares from 1 to 10\n",
    "squares = [(num, num**2) for num in range(1, 11)]\n",
    "\n",
    "# Print the result\n",
    "print(squares)\n",
    "# Nested list\n",
    "nested_list = [[1, 2, 3], [4, 5], [6, 7, 8]]\n",
    "\n",
    "# Flatten the nested list using list comprehension\n",
    "flattened_list = [item for sublist in nested_list for item in sublist]\n",
    "\n",
    "# Print the result\n",
    "print(flattened_list)\n"
   ]
  },
  {
   "cell_type": "code",
   "execution_count": null,
   "metadata": {},
   "outputs": [],
   "source": []
  }
 ],
 "metadata": {
  "kernelspec": {
   "display_name": "Python 3",
   "language": "python",
   "name": "python3"
  },
  "language_info": {
   "codemirror_mode": {
    "name": "ipython",
    "version": 3
   },
   "file_extension": ".py",
   "mimetype": "text/x-python",
   "name": "python",
   "nbconvert_exporter": "python",
   "pygments_lexer": "ipython3",
   "version": "3.13.0"
  }
 },
 "nbformat": 4,
 "nbformat_minor": 2
}
